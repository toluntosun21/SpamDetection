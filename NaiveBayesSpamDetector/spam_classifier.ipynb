{
 "cells": [
  {
   "cell_type": "code",
   "execution_count": 2,
   "metadata": {},
   "outputs": [],
   "source": [
    "### Import Libraries ###\n",
    "import pandas as pd\n",
    "from sklearn.feature_extraction.text import TfidfVectorizer\n",
    "from sklearn.model_selection import train_test_split\n",
    "from sklearn.naive_bayes import GaussianNB\n",
    "from sklearn.metrics import confusion_matrix, classification_report\n",
    "from bs4 import BeautifulSoup\n",
    "import re\n",
    "import nltk\n",
    "from nltk.corpus import stopwords \n",
    "from nltk.stem import WordNetLemmatizer\n",
    "from nltk.corpus import wordnet"
   ]
  },
  {
   "cell_type": "code",
   "execution_count": 3,
   "metadata": {},
   "outputs": [],
   "source": [
    "### Text Cleaning Functions ###\n",
    "def lemmatization2(text):    \n",
    "\n",
    "    stemmer = WordNetLemmatizer()\n",
    "    corpus_lem = []\n",
    "    for i,row in enumerate(text):\n",
    "        document = row.split()\n",
    "        lem_doc=[]\n",
    "        for token,tag in nltk.pos_tag(document):\n",
    "            if tag.startswith('J'):\n",
    "                lem_doc.append(stemmer.lemmatize(token,wordnet.ADJ))\n",
    "            elif tag.startswith('V'):\n",
    "                lem_doc.append(stemmer.lemmatize(token,wordnet.VERB))\n",
    "            elif tag.startswith('R'):\n",
    "                lem_doc.append(stemmer.lemmatize(token,wordnet.ADV))\n",
    "            else:\n",
    "                lem_doc.append(stemmer.lemmatize(token))        \n",
    "                \n",
    "        corpus_lem.append(' '.join(lem_doc))\n",
    "        \n",
    "    return corpus_lem\n",
    "\n",
    "def remove_stopwords(text):\n",
    "    nltk.download('stopwords')    \n",
    "    stop_words = set(stopwords.words('english'))\n",
    "    corpus_sw=[]\n",
    "    for i in range(0,len(text)):\n",
    "        review = [word for word in text[i].lower().split() if not word in stop_words]\n",
    "        review = ' '.join(review)\n",
    "        corpus_sw.append(review)     \n",
    "        \n",
    "    return corpus_sw\n",
    "\n",
    "\n",
    "def clean_text(texts):\n",
    "    \n",
    "    clean = []\n",
    "    for text in texts:\n",
    "        # Removing the @\n",
    "        text = re.sub(r\"@[A-Za-z0-9]+\", ' ', text)\n",
    "        # Removing the URL links\n",
    "        text = re.sub(r\"https?://[A-Za-z0-9./]+\", ' ', text)\n",
    "        # Keeping only letters\n",
    "        text = re.sub(r\"[^a-zA-Z.!?']\", ' ', text)\n",
    "        # Removing additional whitespaces\n",
    "        text = re.sub(r\" +\", ' ', text)\n",
    "        clean.append(text)\n",
    "        \n",
    "    return clean"
   ]
  },
  {
   "cell_type": "code",
   "execution_count": 6,
   "metadata": {},
   "outputs": [
    {
     "name": "stderr",
     "output_type": "stream",
     "text": [
      "[nltk_data] Downloading package stopwords to\n",
      "[nltk_data]     C:\\Users\\ta496711\\AppData\\Roaming\\nltk_data...\n",
      "[nltk_data]   Package stopwords is already up-to-date!\n"
     ]
    },
    {
     "data": {
      "text/html": [
       "<div>\n",
       "<style scoped>\n",
       "    .dataframe tbody tr th:only-of-type {\n",
       "        vertical-align: middle;\n",
       "    }\n",
       "\n",
       "    .dataframe tbody tr th {\n",
       "        vertical-align: top;\n",
       "    }\n",
       "\n",
       "    .dataframe thead th {\n",
       "        text-align: right;\n",
       "    }\n",
       "</style>\n",
       "<table border=\"1\" class=\"dataframe\">\n",
       "  <thead>\n",
       "    <tr style=\"text-align: right;\">\n",
       "      <th></th>\n",
       "      <th>email</th>\n",
       "      <th>label</th>\n",
       "    </tr>\n",
       "  </thead>\n",
       "  <tbody>\n",
       "    <tr>\n",
       "      <th>0</th>\n",
       "      <td>date wed NUMBER aug NUMBER NUMBER NUMBER NUMB...</td>\n",
       "      <td>0</td>\n",
       "    </tr>\n",
       "    <tr>\n",
       "      <th>1</th>\n",
       "      <td>martin a posted tassos papadopoulos the greek ...</td>\n",
       "      <td>0</td>\n",
       "    </tr>\n",
       "    <tr>\n",
       "      <th>2</th>\n",
       "      <td>man threatens explosion in moscow thursday aug...</td>\n",
       "      <td>0</td>\n",
       "    </tr>\n",
       "    <tr>\n",
       "      <th>3</th>\n",
       "      <td>klez the virus that won t die already the most...</td>\n",
       "      <td>0</td>\n",
       "    </tr>\n",
       "    <tr>\n",
       "      <th>4</th>\n",
       "      <td>in adding cream to spaghetti carbonara which ...</td>\n",
       "      <td>0</td>\n",
       "    </tr>\n",
       "  </tbody>\n",
       "</table>\n",
       "</div>"
      ],
      "text/plain": [
       "                                               email  label\n",
       "0   date wed NUMBER aug NUMBER NUMBER NUMBER NUMB...      0\n",
       "1  martin a posted tassos papadopoulos the greek ...      0\n",
       "2  man threatens explosion in moscow thursday aug...      0\n",
       "3  klez the virus that won t die already the most...      0\n",
       "4   in adding cream to spaghetti carbonara which ...      0"
      ]
     },
     "execution_count": 6,
     "metadata": {},
     "output_type": "execute_result"
    }
   ],
   "source": [
    "# Read the data\n",
    "raw_data = pd.read_csv('./spam_or_not_spam.csv')\n",
    "# Drop the nans\n",
    "raw_data = raw_data.dropna()\n",
    "# Clean text\n",
    "cleaned_text = clean_text(raw_data['email'].tolist())\n",
    "# Remove stopwords\n",
    "cleaned_text = remove_stopwords(cleaned_text)\n",
    "# Lemmatize\n",
    "cleaned_text = lemmatization2(cleaned_text)\n",
    "# Pull the target variable (binary)\n",
    "target = raw_data['label'].tolist()\n",
    "# Quick glance at the dataset\n",
    "raw_data.head()"
   ]
  },
  {
   "cell_type": "code",
   "execution_count": 4,
   "metadata": {},
   "outputs": [],
   "source": [
    "### TF-IDF fit&transform ###\n",
    "tfidfconverter = TfidfVectorizer(max_features = 20000,min_df = 5, max_df = 0.75)\n",
    "X = tfidfconverter.fit_transform(cleaned_text).toarray() \n",
    "# Splitting the dataset into the Training set and Test set\n",
    "X_train,X_test,y_train,y_test = train_test_split(X, target,  test_size = 0.20, random_state = 0)"
   ]
  },
  {
   "cell_type": "code",
   "execution_count": 7,
   "metadata": {},
   "outputs": [
    {
     "name": "stdout",
     "output_type": "stream",
     "text": [
      "              precision    recall  f1-score   support\n",
      "\n",
      "           0       0.95      0.98      0.97       510\n",
      "           1       0.88      0.73      0.80        90\n",
      "\n",
      "    accuracy                           0.94       600\n",
      "   macro avg       0.92      0.86      0.88       600\n",
      "weighted avg       0.94      0.94      0.94       600\n",
      "\n"
     ]
    }
   ],
   "source": [
    "# Naive-Bayes Classifier\n",
    "gnb = GaussianNB()\n",
    "y_pred = gnb.fit(X_train, y_train).predict(X_test)\n",
    "# Confusion Matrix\n",
    "#cm = confusion_matrix(y_test,y_pred)\n",
    "cl_report = classification_report(y_test,y_pred)\n",
    "print(cl_report)"
   ]
  },
  {
   "cell_type": "code",
   "execution_count": null,
   "metadata": {},
   "outputs": [],
   "source": []
  }
 ],
 "metadata": {
  "kernelspec": {
   "display_name": "Python 3",
   "language": "python",
   "name": "python3"
  },
  "language_info": {
   "codemirror_mode": {
    "name": "ipython",
    "version": 3
   },
   "file_extension": ".py",
   "mimetype": "text/x-python",
   "name": "python",
   "nbconvert_exporter": "python",
   "pygments_lexer": "ipython3",
   "version": "3.7.3"
  }
 },
 "nbformat": 4,
 "nbformat_minor": 4
}
